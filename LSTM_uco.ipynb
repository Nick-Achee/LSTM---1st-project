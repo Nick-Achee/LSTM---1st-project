{
  "nbformat": 4,
  "nbformat_minor": 0,
  "metadata": {
    "colab": {
      "name": "LSTM-uco.ipynb",
      "provenance": [],
      "authorship_tag": "ABX9TyPBgcqOu8MuiRnwFlIHzc46",
      "include_colab_link": true
    },
    "kernelspec": {
      "name": "python3",
      "display_name": "Python 3"
    }
  },
  "cells": [
    {
      "cell_type": "markdown",
      "metadata": {
        "id": "view-in-github",
        "colab_type": "text"
      },
      "source": [
        "<a href=\"https://colab.research.google.com/github/Nick-Achee/LSTM---1st-project/blob/master/LSTM_uco.ipynb\" target=\"_parent\"><img src=\"https://colab.research.google.com/assets/colab-badge.svg\" alt=\"Open In Colab\"/></a>"
      ]
    },
    {
      "cell_type": "code",
      "metadata": {
        "id": "53Yp8wseYhv-",
        "colab_type": "code",
        "colab": {}
      },
      "source": [
        " # Description: "
      ],
      "execution_count": null,
      "outputs": []
    },
    {
      "cell_type": "code",
      "metadata": {
        "id": "y0Ad4N21YNY2",
        "colab_type": "code",
        "colab": {}
      },
      "source": [
        "#Import the libraries\n",
        "import math\n",
        "import pandas_datareader as web\n",
        "import numpy as np\n",
        "import pandas as pd\n",
        "from sklearn.preprocessing import MinMaxScaler\n",
        "from keras.models import Sequential\n",
        "from keras.layers import Dense, LSTM\n",
        "import matplotlib.pyplot as plt\n",
        "plt.style.use('fivethirtyeight')"
      ],
      "execution_count": null,
      "outputs": []
    },
    {
      "cell_type": "code",
      "metadata": {
        "id": "lyQWBx1uZUGG",
        "colab_type": "code",
        "colab": {
          "base_uri": "https://localhost:8080/",
          "height": 450
        },
        "outputId": "8f8c47f3-6995-4d91-fdbb-0d0ba5e02fbf"
      },
      "source": [
        "#Get the stock quote\n",
        "df = web.DataReader('USO', data_source='yahoo', start='2012-01-01', end='2020-04-20')\n",
        "#Show teh data\n",
        "df"
      ],
      "execution_count": null,
      "outputs": [
        {
          "output_type": "execute_result",
          "data": {
            "text/html": [
              "<div>\n",
              "<style scoped>\n",
              "    .dataframe tbody tr th:only-of-type {\n",
              "        vertical-align: middle;\n",
              "    }\n",
              "\n",
              "    .dataframe tbody tr th {\n",
              "        vertical-align: top;\n",
              "    }\n",
              "\n",
              "    .dataframe thead th {\n",
              "        text-align: right;\n",
              "    }\n",
              "</style>\n",
              "<table border=\"1\" class=\"dataframe\">\n",
              "  <thead>\n",
              "    <tr style=\"text-align: right;\">\n",
              "      <th></th>\n",
              "      <th>High</th>\n",
              "      <th>Low</th>\n",
              "      <th>Open</th>\n",
              "      <th>Close</th>\n",
              "      <th>Volume</th>\n",
              "      <th>Adj Close</th>\n",
              "    </tr>\n",
              "    <tr>\n",
              "      <th>Date</th>\n",
              "      <th></th>\n",
              "      <th></th>\n",
              "      <th></th>\n",
              "      <th></th>\n",
              "      <th></th>\n",
              "      <th></th>\n",
              "    </tr>\n",
              "  </thead>\n",
              "  <tbody>\n",
              "    <tr>\n",
              "      <th>2012-01-03</th>\n",
              "      <td>39.750000</td>\n",
              "      <td>39.240002</td>\n",
              "      <td>39.240002</td>\n",
              "      <td>39.689999</td>\n",
              "      <td>12369900</td>\n",
              "      <td>39.689999</td>\n",
              "    </tr>\n",
              "    <tr>\n",
              "      <th>2012-01-04</th>\n",
              "      <td>39.959999</td>\n",
              "      <td>39.380001</td>\n",
              "      <td>39.500000</td>\n",
              "      <td>39.770000</td>\n",
              "      <td>13812800</td>\n",
              "      <td>39.770000</td>\n",
              "    </tr>\n",
              "    <tr>\n",
              "      <th>2012-01-05</th>\n",
              "      <td>39.849998</td>\n",
              "      <td>39.119999</td>\n",
              "      <td>39.490002</td>\n",
              "      <td>39.169998</td>\n",
              "      <td>11799600</td>\n",
              "      <td>39.169998</td>\n",
              "    </tr>\n",
              "    <tr>\n",
              "      <th>2012-01-06</th>\n",
              "      <td>39.389999</td>\n",
              "      <td>38.860001</td>\n",
              "      <td>39.389999</td>\n",
              "      <td>39.220001</td>\n",
              "      <td>9760600</td>\n",
              "      <td>39.220001</td>\n",
              "    </tr>\n",
              "    <tr>\n",
              "      <th>2012-01-09</th>\n",
              "      <td>39.139999</td>\n",
              "      <td>38.560001</td>\n",
              "      <td>39.110001</td>\n",
              "      <td>39.080002</td>\n",
              "      <td>7509300</td>\n",
              "      <td>39.080002</td>\n",
              "    </tr>\n",
              "    <tr>\n",
              "      <th>...</th>\n",
              "      <td>...</td>\n",
              "      <td>...</td>\n",
              "      <td>...</td>\n",
              "      <td>...</td>\n",
              "      <td>...</td>\n",
              "      <td>...</td>\n",
              "    </tr>\n",
              "    <tr>\n",
              "      <th>2020-04-14</th>\n",
              "      <td>4.800000</td>\n",
              "      <td>4.530000</td>\n",
              "      <td>4.760000</td>\n",
              "      <td>4.660000</td>\n",
              "      <td>191872000</td>\n",
              "      <td>4.660000</td>\n",
              "    </tr>\n",
              "    <tr>\n",
              "      <th>2020-04-15</th>\n",
              "      <td>4.470000</td>\n",
              "      <td>4.300000</td>\n",
              "      <td>4.430000</td>\n",
              "      <td>4.430000</td>\n",
              "      <td>219222000</td>\n",
              "      <td>4.430000</td>\n",
              "    </tr>\n",
              "    <tr>\n",
              "      <th>2020-04-16</th>\n",
              "      <td>4.410000</td>\n",
              "      <td>4.150000</td>\n",
              "      <td>4.400000</td>\n",
              "      <td>4.360000</td>\n",
              "      <td>238540900</td>\n",
              "      <td>4.360000</td>\n",
              "    </tr>\n",
              "    <tr>\n",
              "      <th>2020-04-17</th>\n",
              "      <td>4.260000</td>\n",
              "      <td>4.100000</td>\n",
              "      <td>4.150000</td>\n",
              "      <td>4.210000</td>\n",
              "      <td>249775500</td>\n",
              "      <td>4.210000</td>\n",
              "    </tr>\n",
              "    <tr>\n",
              "      <th>2020-04-20</th>\n",
              "      <td>4.050000</td>\n",
              "      <td>3.740000</td>\n",
              "      <td>3.760000</td>\n",
              "      <td>3.845000</td>\n",
              "      <td>650910303</td>\n",
              "      <td>3.845000</td>\n",
              "    </tr>\n",
              "  </tbody>\n",
              "</table>\n",
              "<p>2087 rows × 6 columns</p>\n",
              "</div>"
            ],
            "text/plain": [
              "                 High        Low       Open      Close     Volume  Adj Close\n",
              "Date                                                                        \n",
              "2012-01-03  39.750000  39.240002  39.240002  39.689999   12369900  39.689999\n",
              "2012-01-04  39.959999  39.380001  39.500000  39.770000   13812800  39.770000\n",
              "2012-01-05  39.849998  39.119999  39.490002  39.169998   11799600  39.169998\n",
              "2012-01-06  39.389999  38.860001  39.389999  39.220001    9760600  39.220001\n",
              "2012-01-09  39.139999  38.560001  39.110001  39.080002    7509300  39.080002\n",
              "...               ...        ...        ...        ...        ...        ...\n",
              "2020-04-14   4.800000   4.530000   4.760000   4.660000  191872000   4.660000\n",
              "2020-04-15   4.470000   4.300000   4.430000   4.430000  219222000   4.430000\n",
              "2020-04-16   4.410000   4.150000   4.400000   4.360000  238540900   4.360000\n",
              "2020-04-17   4.260000   4.100000   4.150000   4.210000  249775500   4.210000\n",
              "2020-04-20   4.050000   3.740000   3.760000   3.845000  650910303   3.845000\n",
              "\n",
              "[2087 rows x 6 columns]"
            ]
          },
          "metadata": {
            "tags": []
          },
          "execution_count": 88
        }
      ]
    },
    {
      "cell_type": "code",
      "metadata": {
        "id": "WN29XMzBgN3Q",
        "colab_type": "code",
        "colab": {
          "base_uri": "https://localhost:8080/",
          "height": 35
        },
        "outputId": "cd29e7e6-e591-4a7b-c213-dd35ac7fb4ef"
      },
      "source": [
        "\n",
        "#Get the number of rows and columns in the data set\n",
        "df.shape"
      ],
      "execution_count": null,
      "outputs": [
        {
          "output_type": "execute_result",
          "data": {
            "text/plain": [
              "(2087, 6)"
            ]
          },
          "metadata": {
            "tags": []
          },
          "execution_count": 89
        }
      ]
    },
    {
      "cell_type": "code",
      "metadata": {
        "id": "hl5Rniwdbgsh",
        "colab_type": "code",
        "colab": {
          "base_uri": "https://localhost:8080/",
          "height": 558
        },
        "outputId": "7a384fc4-c899-4b9c-9ea2-acb1bb2e4692"
      },
      "source": [
        "#Visualize the closing price history\n",
        "plt.figure(figsize=(16,8))\n",
        "plt.title('Close Price History')\n",
        "plt.plot(df['Close'])\n",
        "plt.xlabel('Date', fontsize=18)\n",
        "plt.ylabel('Close Price USD ($)', fontsize=18)\n",
        "plt.show()"
      ],
      "execution_count": null,
      "outputs": [
        {
          "output_type": "display_data",
          "data": {
            "image/png": "[encoded data removed]",
            "text/plain": [
              "<Figure size 1152x576 with 1 Axes>"
            ]
          },
          "metadata": {
            "tags": []
          }
        }
      ]
    },
    {
      "cell_type": "code",
      "metadata": {
        "id": "t5plP6oVhh6B",
        "colab_type": "code",
        "colab": {
          "base_uri": "https://localhost:8080/",
          "height": 35
        },
        "outputId": "2a2b3be2-09fd-43ab-bd2f-d4e27fe4cd2d"
      },
      "source": [
        "#Create a new dataframe with only the 'Close column\n",
        "data = df.filter(['Close'])\n",
        "#Convert the dataframe to a numpy array\n",
        "dataset = data.values\n",
        "#Get the number of rows to train the model on\n",
        "training_data_len = math.ceil( len(dataset) * .8 )\n",
        "\n",
        "training_data_len"
      ],
      "execution_count": null,
      "outputs": [
        {
          "output_type": "execute_result",
          "data": {
            "text/plain": [
              "1670"
            ]
          },
          "metadata": {
            "tags": []
          },
          "execution_count": 91
        }
      ]
    },
    {
      "cell_type": "code",
      "metadata": {
        "id": "7mDaFLXbhzsC",
        "colab_type": "code",
        "colab": {
          "base_uri": "https://localhost:8080/",
          "height": 143
        },
        "outputId": "23e54947-3551-4fe1-b6f3-88c5ba2e47dd"
      },
      "source": [
        "#Scale the data\n",
        "scaler = MinMaxScaler(feature_range=(0,1))\n",
        "scaled_data = scaler.fit_transform(dataset)\n",
        "\n",
        "scaled_data"
      ],
      "execution_count": null,
      "outputs": [
        {
          "output_type": "execute_result",
          "data": {
            "text/plain": [
              "array([[0.93921132],\n",
              "       [0.94130753],\n",
              "       [0.92558626],\n",
              "       ...,\n",
              "       [0.01349404],\n",
              "       [0.00956374],\n",
              "       [0.        ]])"
            ]
          },
          "metadata": {
            "tags": []
          },
          "execution_count": 92
        }
      ]
    },
    {
      "cell_type": "code",
      "metadata": {
        "id": "EF4RmSdoh3in",
        "colab_type": "code",
        "colab": {
          "base_uri": "https://localhost:8080/",
          "height": 719
        },
        "outputId": "75043805-aa18-4d00-8559-7bbedf244a5c"
      },
      "source": [
        "#Create the training data set\n",
        "#Create the scaled training data set\n",
        "train_data = scaled_data[0:training_data_len , :]\n",
        "#Split the data into x_train and y_train data sets\n",
        "x_train = []\n",
        "y_train = []\n",
        "\n",
        "for i in range(60, len(train_data)):\n",
        "  x_train.append(train_data[i-60:i, 0])\n",
        "  y_train.append(train_data[i, 0])\n",
        "  if i<= 61:\n",
        "    print(x_train)\n",
        "    print(y_train)\n",
        "    print()"
      ],
      "execution_count": null,
      "outputs": [
        {
          "output_type": "stream",
          "text": [
            "[array([0.93921132, 0.94130753, 0.92558626, 0.92689644, 0.92322818,\n",
            "       0.93004066, 0.91903576, 0.89650211, 0.89912227, 0.91562957,\n",
            "       0.91667767, 0.91300931, 0.88916547, 0.90514872, 0.89755011,\n",
            "       0.90410062, 0.90462467, 0.90279053, 0.89519193, 0.89021358,\n",
            "       0.87868473, 0.87213422, 0.88418713, 0.87737464, 0.89361987,\n",
            "       0.89597805, 0.90357666, 0.895454  , 0.91300931, 0.91693965,\n",
            "       0.92584834, 0.9284685 , 0.94078348, 0.96253121, 0.96279318,\n",
            "       0.98323072, 1.        , 0.97825238, 0.96803361, 0.9714398 ,\n",
            "       0.99318752, 0.96750955, 0.97274998, 0.95074028, 0.96331723,\n",
            "       0.96881963, 0.97589419, 0.96567542, 0.96908171, 0.95807681,\n",
            "       0.95467052, 0.97432203, 0.98113461, 0.95860086, 0.96462731,\n",
            "       0.95100225, 0.96541334, 0.96750955, 0.9659374 , 0.95231233])]\n",
            "[0.9287305770295231]\n",
            "\n",
            "[array([0.93921132, 0.94130753, 0.92558626, 0.92689644, 0.92322818,\n",
            "       0.93004066, 0.91903576, 0.89650211, 0.89912227, 0.91562957,\n",
            "       0.91667767, 0.91300931, 0.88916547, 0.90514872, 0.89755011,\n",
            "       0.90410062, 0.90462467, 0.90279053, 0.89519193, 0.89021358,\n",
            "       0.87868473, 0.87213422, 0.88418713, 0.87737464, 0.89361987,\n",
            "       0.89597805, 0.90357666, 0.895454  , 0.91300931, 0.91693965,\n",
            "       0.92584834, 0.9284685 , 0.94078348, 0.96253121, 0.96279318,\n",
            "       0.98323072, 1.        , 0.97825238, 0.96803361, 0.9714398 ,\n",
            "       0.99318752, 0.96750955, 0.97274998, 0.95074028, 0.96331723,\n",
            "       0.96881963, 0.97589419, 0.96567542, 0.96908171, 0.95807681,\n",
            "       0.95467052, 0.97432203, 0.98113461, 0.95860086, 0.96462731,\n",
            "       0.95100225, 0.96541334, 0.96750955, 0.9659374 , 0.95231233]), array([0.94130753, 0.92558626, 0.92689644, 0.92322818, 0.93004066,\n",
            "       0.91903576, 0.89650211, 0.89912227, 0.91562957, 0.91667767,\n",
            "       0.91300931, 0.88916547, 0.90514872, 0.89755011, 0.90410062,\n",
            "       0.90462467, 0.90279053, 0.89519193, 0.89021358, 0.87868473,\n",
            "       0.87213422, 0.88418713, 0.87737464, 0.89361987, 0.89597805,\n",
            "       0.90357666, 0.895454  , 0.91300931, 0.91693965, 0.92584834,\n",
            "       0.9284685 , 0.94078348, 0.96253121, 0.96279318, 0.98323072,\n",
            "       1.        , 0.97825238, 0.96803361, 0.9714398 , 0.99318752,\n",
            "       0.96750955, 0.97274998, 0.95074028, 0.96331723, 0.96881963,\n",
            "       0.97589419, 0.96567542, 0.96908171, 0.95807681, 0.95467052,\n",
            "       0.97432203, 0.98113461, 0.95860086, 0.96462731, 0.95100225,\n",
            "       0.96541334, 0.96750955, 0.9659374 , 0.95231233, 0.92873058])]\n",
            "[0.9287305770295231, 0.9271584199228857]\n",
            "\n"
          ],
          "name": "stdout"
        }
      ]
    },
    {
      "cell_type": "code",
      "metadata": {
        "id": "nrbbAxhsiBTg",
        "colab_type": "code",
        "colab": {}
      },
      "source": [
        "#Convert the x_train and y_train to numpy arrays \n",
        "x_train, y_train = np.array(x_train), np.array(y_train)"
      ],
      "execution_count": null,
      "outputs": []
    },
    {
      "cell_type": "code",
      "metadata": {
        "id": "uKJ_sJ76iIWl",
        "colab_type": "code",
        "colab": {
          "base_uri": "https://localhost:8080/",
          "height": 35
        },
        "outputId": "8d919715-b16c-46e7-e24a-55b16ed6cbac"
      },
      "source": [
        "#Reshape the data\n",
        "x_train = np.reshape(x_train, (x_train.shape[0], x_train.shape[1], 1))\n",
        "x_train.shape"
      ],
      "execution_count": null,
      "outputs": [
        {
          "output_type": "execute_result",
          "data": {
            "text/plain": [
              "(1610, 60, 1)"
            ]
          },
          "metadata": {
            "tags": []
          },
          "execution_count": 95
        }
      ]
    },
    {
      "cell_type": "code",
      "metadata": {
        "id": "i1L89pFQiRF6",
        "colab_type": "code",
        "colab": {}
      },
      "source": [
        "#Build the LSTM model\n",
        "model = Sequential()\n",
        "model.add(LSTM(50, return_sequences=True, input_shape= (x_train.shape[1], 1)))\n",
        "model.add(LSTM(50, return_sequences= False))\n",
        "model.add(Dense(25))\n",
        "model.add(Dense(1))"
      ],
      "execution_count": null,
      "outputs": []
    },
    {
      "cell_type": "code",
      "metadata": {
        "id": "RGKlTQGXiTRA",
        "colab_type": "code",
        "colab": {}
      },
      "source": [
        "#Compile the model\n",
        "model.compile(optimizer='adam', loss='mean_squared_error')"
      ],
      "execution_count": null,
      "outputs": []
    },
    {
      "cell_type": "code",
      "metadata": {
        "id": "aPa8Hj80ieET",
        "colab_type": "code",
        "colab": {
          "base_uri": "https://localhost:8080/",
          "height": 71
        },
        "outputId": "936891d0-6943-4bdd-d0ea-9d13db8097ae"
      },
      "source": [
        "#Train the model\n",
        "model.fit(x_train, y_train, batch_size=1, epochs=1)"
      ],
      "execution_count": null,
      "outputs": [
        {
          "output_type": "stream",
          "text": [
            "Epoch 1/1\n",
            "1610/1610 [==============================] - 59s 37ms/step - loss: 0.0015\n"
          ],
          "name": "stdout"
        },
        {
          "output_type": "execute_result",
          "data": {
            "text/plain": [
              "<keras.callbacks.callbacks.History at 0x7f67e8e3f8d0>"
            ]
          },
          "metadata": {
            "tags": []
          },
          "execution_count": 98
        }
      ]
    },
    {
      "cell_type": "code",
      "metadata": {
        "id": "l2561rVLi1U_",
        "colab_type": "code",
        "colab": {}
      },
      "source": [
        "#Create the testing data set\n",
        "#Create a new array containing scaled values from index 1543 to 2002 \n",
        "test_data = scaled_data[training_data_len - 60: , :]\n",
        "#Create the data sets x_test and y_test\n",
        "x_test = []\n",
        "y_test = dataset[training_data_len:, :]\n",
        "for i in range(60, len(test_data)):\n",
        "  x_test.append(test_data[i-60:i, 0])"
      ],
      "execution_count": null,
      "outputs": []
    },
    {
      "cell_type": "code",
      "metadata": {
        "id": "X66use2-jEU7",
        "colab_type": "code",
        "colab": {}
      },
      "source": [
        "#Convert the data to a numpy array\n",
        "x_test = np.array(x_test)"
      ],
      "execution_count": null,
      "outputs": []
    },
    {
      "cell_type": "code",
      "metadata": {
        "id": "PPt1dZGSjKSK",
        "colab_type": "code",
        "colab": {}
      },
      "source": [
        "#Reshape the data\n",
        "x_test = np.reshape(x_test, (x_test.shape[0], x_test.shape[1], 1 ))"
      ],
      "execution_count": null,
      "outputs": []
    },
    {
      "cell_type": "code",
      "metadata": {
        "id": "QDXy5VCwkdp3",
        "colab_type": "code",
        "colab": {}
      },
      "source": [
        "#Get the models predicted price values \n",
        "predictions = model.predict(x_test)\n",
        "predictions = scaler.inverse_transform(predictions)"
      ],
      "execution_count": null,
      "outputs": []
    },
    {
      "cell_type": "code",
      "metadata": {
        "id": "XqP16rtikkEV",
        "colab_type": "code",
        "colab": {
          "base_uri": "https://localhost:8080/",
          "height": 35
        },
        "outputId": "7e04aceb-533c-4531-d834-e32201d6a370"
      },
      "source": [
        "#Get the root mean squared error (RMSE)\n",
        "rmse=np.sqrt(np.mean(((predictions- y_test)**2)))\n",
        "rmse"
      ],
      "execution_count": null,
      "outputs": [
        {
          "output_type": "execute_result",
          "data": {
            "text/plain": [
              "0.5562558092282041"
            ]
          },
          "metadata": {
            "tags": []
          },
          "execution_count": 103
        }
      ]
    },
    {
      "cell_type": "code",
      "metadata": {
        "id": "3wiXJqEIkqUz",
        "colab_type": "code",
        "colab": {
          "base_uri": "https://localhost:8080/",
          "height": 666
        },
        "outputId": "fff5cba6-86dd-4c32-9900-3d1daf55d4b9"
      },
      "source": [
        "#Plot the data\n",
        "train = data[:training_data_len]\n",
        "valid = data[training_data_len:]\n",
        "valid['Predictions'] = predictions\n",
        "#Visualize the data\n",
        "plt.figure(figsize=(16,8))\n",
        "plt.title('Model')\n",
        "plt.xlabel('Date', fontsize=18)\n",
        "plt.ylabel('Close Price USD ($)', fontsize=18)\n",
        "plt.plot(train['Close'])\n",
        "plt.plot(valid[['Close', 'Predictions']])\n",
        "plt.legend(['Train', 'Val', 'Predictions'], loc='lower right')\n",
        "plt.show()"
      ],
      "execution_count": null,
      "outputs": [
        {
          "output_type": "stream",
          "text": [
            "/usr/local/lib/python3.6/dist-packages/ipykernel_launcher.py:3: SettingWithCopyWarning: \n",
            "A value is trying to be set on a copy of a slice from a DataFrame.\n",
            "Try using .loc[row_indexer,col_indexer] = value instead\n",
            "\n",
            "See the caveats in the documentation: https://pandas.pydata.org/pandas-docs/stable/user_guide/indexing.html#returning-a-view-versus-a-copy\n",
            "  This is separate from the ipykernel package so we can avoid doing imports until\n"
          ],
          "name": "stderr"
        },
        {
          "output_type": "display_data",
          "data": {
            "image/png": "[encoded data removed]",
            "text/plain": [
              "<Figure size 1152x576 with 1 Axes>"
            ]
          },
          "metadata": {
            "tags": []
          }
        }
      ]
    },
    {
      "cell_type": "code",
      "metadata": {
        "id": "AWhoEQLRk0bt",
        "colab_type": "code",
        "colab": {
          "base_uri": "https://localhost:8080/",
          "height": 450
        },
        "outputId": "cf40eef9-2935-410b-c1d7-9a6857681620"
      },
      "source": [
        "#Show the valid and predicted prices\n",
        "valid"
      ],
      "execution_count": null,
      "outputs": [
        {
          "output_type": "execute_result",
          "data": {
            "text/html": [
              "<div>\n",
              "<style scoped>\n",
              "    .dataframe tbody tr th:only-of-type {\n",
              "        vertical-align: middle;\n",
              "    }\n",
              "\n",
              "    .dataframe tbody tr th {\n",
              "        vertical-align: top;\n",
              "    }\n",
              "\n",
              "    .dataframe thead th {\n",
              "        text-align: right;\n",
              "    }\n",
              "</style>\n",
              "<table border=\"1\" class=\"dataframe\">\n",
              "  <thead>\n",
              "    <tr style=\"text-align: right;\">\n",
              "      <th></th>\n",
              "      <th>Close</th>\n",
              "      <th>Predictions</th>\n",
              "    </tr>\n",
              "    <tr>\n",
              "      <th>Date</th>\n",
              "      <th></th>\n",
              "      <th></th>\n",
              "    </tr>\n",
              "  </thead>\n",
              "  <tbody>\n",
              "    <tr>\n",
              "      <th>2018-08-22</th>\n",
              "      <td>14.270</td>\n",
              "      <td>13.620086</td>\n",
              "    </tr>\n",
              "    <tr>\n",
              "      <th>2018-08-23</th>\n",
              "      <td>14.270</td>\n",
              "      <td>13.643503</td>\n",
              "    </tr>\n",
              "    <tr>\n",
              "      <th>2018-08-24</th>\n",
              "      <td>14.430</td>\n",
              "      <td>13.696395</td>\n",
              "    </tr>\n",
              "    <tr>\n",
              "      <th>2018-08-27</th>\n",
              "      <td>14.500</td>\n",
              "      <td>13.776546</td>\n",
              "    </tr>\n",
              "    <tr>\n",
              "      <th>2018-08-28</th>\n",
              "      <td>14.430</td>\n",
              "      <td>13.871999</td>\n",
              "    </tr>\n",
              "    <tr>\n",
              "      <th>...</th>\n",
              "      <td>...</td>\n",
              "      <td>...</td>\n",
              "    </tr>\n",
              "    <tr>\n",
              "      <th>2020-04-14</th>\n",
              "      <td>4.660</td>\n",
              "      <td>5.119804</td>\n",
              "    </tr>\n",
              "    <tr>\n",
              "      <th>2020-04-15</th>\n",
              "      <td>4.430</td>\n",
              "      <td>5.100083</td>\n",
              "    </tr>\n",
              "    <tr>\n",
              "      <th>2020-04-16</th>\n",
              "      <td>4.360</td>\n",
              "      <td>5.036513</td>\n",
              "    </tr>\n",
              "    <tr>\n",
              "      <th>2020-04-17</th>\n",
              "      <td>4.210</td>\n",
              "      <td>4.945996</td>\n",
              "    </tr>\n",
              "    <tr>\n",
              "      <th>2020-04-20</th>\n",
              "      <td>3.845</td>\n",
              "      <td>4.834839</td>\n",
              "    </tr>\n",
              "  </tbody>\n",
              "</table>\n",
              "<p>417 rows × 2 columns</p>\n",
              "</div>"
            ],
            "text/plain": [
              "             Close  Predictions\n",
              "Date                           \n",
              "2018-08-22  14.270    13.620086\n",
              "2018-08-23  14.270    13.643503\n",
              "2018-08-24  14.430    13.696395\n",
              "2018-08-27  14.500    13.776546\n",
              "2018-08-28  14.430    13.871999\n",
              "...            ...          ...\n",
              "2020-04-14   4.660     5.119804\n",
              "2020-04-15   4.430     5.100083\n",
              "2020-04-16   4.360     5.036513\n",
              "2020-04-17   4.210     4.945996\n",
              "2020-04-20   3.845     4.834839\n",
              "\n",
              "[417 rows x 2 columns]"
            ]
          },
          "metadata": {
            "tags": []
          },
          "execution_count": 105
        }
      ]
    },
    {
      "cell_type": "code",
      "metadata": {
        "id": "eT7uBWVilCxE",
        "colab_type": "code",
        "colab": {
          "base_uri": "https://localhost:8080/",
          "height": 35
        },
        "outputId": "80f01bc9-1a2c-4e7a-8095-aa318007fe2d"
      },
      "source": [
        "#Get the quote\n",
        "apple_quote = web.DataReader('USO', data_source='yahoo', start='2012-04-20', end='2020-04-20')\n",
        "#Create a new dataframe\n",
        "new_df = apple_quote.filter(['Close'])\n",
        "#Get teh last 60 day closing price values and convert the dataframe to an array\n",
        "last_60_days = new_df[-60:].values\n",
        "#Scale the data to be values between 0 and 1\n",
        "last_60_days_scaled = scaler.transform(last_60_days)\n",
        "#Create an empty list\n",
        "X_test = []\n",
        "#Append teh past 60 days\n",
        "X_test.append(last_60_days_scaled)\n",
        "#Convert the X_test data set to a numpy array\n",
        "X_test = np.array(X_test)\n",
        "#Reshape the data\n",
        "X_test = np.reshape(X_test, (X_test.shape[0], X_test.shape[1], 1))\n",
        "#Get the predicted scaled price\n",
        "pred_price = model.predict(X_test)\n",
        "#undo the scaling \n",
        "pred_price = scaler.inverse_transform(pred_price)\n",
        "print(pred_price)"
      ],
      "execution_count": null,
      "outputs": [
        {
          "output_type": "stream",
          "text": [
            "[[4.694656]]\n"
          ],
          "name": "stdout"
        }
      ]
    }
  ]
}